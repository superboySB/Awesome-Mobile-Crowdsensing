{
 "cells": [
  {
   "cell_type": "code",
   "outputs": [
    {
     "data": {
      "text/plain": "<folium.folium.Map at 0x7f6b10b80df0>",
      "text/html": "<div style=\"width:100%;\"><div style=\"position:relative;width:100%;height:0;padding-bottom:60%;\"><span style=\"color:#565656\">Make this Notebook Trusted to load map: File -> Trust Notebook</span><iframe srcdoc=\"&lt;!DOCTYPE html&gt;\n&lt;html&gt;\n&lt;head&gt;\n    \n    &lt;meta http-equiv=&quot;content-type&quot; content=&quot;text/html; charset=UTF-8&quot; /&gt;\n    \n        &lt;script&gt;\n            L_NO_TOUCH = false;\n            L_DISABLE_3D = false;\n        &lt;/script&gt;\n    \n    &lt;style&gt;html, body {width: 100%;height: 100%;margin: 0;padding: 0;}&lt;/style&gt;\n    &lt;style&gt;#map {position:absolute;top:0;bottom:0;right:0;left:0;}&lt;/style&gt;\n    &lt;script src=&quot;https://cdn.jsdelivr.net/npm/leaflet@1.9.3/dist/leaflet.js&quot;&gt;&lt;/script&gt;\n    &lt;script src=&quot;https://code.jquery.com/jquery-3.7.1.min.js&quot;&gt;&lt;/script&gt;\n    &lt;script src=&quot;https://cdn.jsdelivr.net/npm/bootstrap@5.2.2/dist/js/bootstrap.bundle.min.js&quot;&gt;&lt;/script&gt;\n    &lt;script src=&quot;https://cdnjs.cloudflare.com/ajax/libs/Leaflet.awesome-markers/2.0.2/leaflet.awesome-markers.js&quot;&gt;&lt;/script&gt;\n    &lt;link rel=&quot;stylesheet&quot; href=&quot;https://cdn.jsdelivr.net/npm/leaflet@1.9.3/dist/leaflet.css&quot;/&gt;\n    &lt;link rel=&quot;stylesheet&quot; href=&quot;https://cdn.jsdelivr.net/npm/bootstrap@5.2.2/dist/css/bootstrap.min.css&quot;/&gt;\n    &lt;link rel=&quot;stylesheet&quot; href=&quot;https://netdna.bootstrapcdn.com/bootstrap/3.0.0/css/bootstrap.min.css&quot;/&gt;\n    &lt;link rel=&quot;stylesheet&quot; href=&quot;https://cdn.jsdelivr.net/npm/@fortawesome/fontawesome-free@6.2.0/css/all.min.css&quot;/&gt;\n    &lt;link rel=&quot;stylesheet&quot; href=&quot;https://cdnjs.cloudflare.com/ajax/libs/Leaflet.awesome-markers/2.0.2/leaflet.awesome-markers.css&quot;/&gt;\n    &lt;link rel=&quot;stylesheet&quot; href=&quot;https://cdn.jsdelivr.net/gh/python-visualization/folium/folium/templates/leaflet.awesome.rotate.min.css&quot;/&gt;\n    \n            &lt;meta name=&quot;viewport&quot; content=&quot;width=device-width,\n                initial-scale=1.0, maximum-scale=1.0, user-scalable=no&quot; /&gt;\n            &lt;style&gt;\n                #map_b882a318786e43a501e364ea78ebc26f {\n                    position: relative;\n                    width: 100.0%;\n                    height: 100.0%;\n                    left: 0.0%;\n                    top: 0.0%;\n                }\n                .leaflet-container { font-size: 1rem; }\n            &lt;/style&gt;\n        \n    &lt;script src=&quot;https://cdnjs.cloudflare.com/ajax/libs/jquery/3.7.1/jquery.min.js&quot;&gt;&lt;/script&gt;\n    &lt;script src=&quot;https://cdnjs.cloudflare.com/ajax/libs/jqueryui/1.10.2/jquery-ui.min.js&quot;&gt;&lt;/script&gt;\n    &lt;script src=&quot;https://cdn.jsdelivr.net/npm/iso8601-js-period@0.2.1/iso8601.min.js&quot;&gt;&lt;/script&gt;\n    &lt;script src=&quot;https://cdn.jsdelivr.net/npm/leaflet-timedimension@1.1.1/dist/leaflet.timedimension.min.js&quot;&gt;&lt;/script&gt;\n    &lt;script src=&quot;https://cdnjs.cloudflare.com/ajax/libs/moment.js/2.18.1/moment.min.js&quot;&gt;&lt;/script&gt;\n    &lt;link rel=&quot;stylesheet&quot; href=&quot;https://cdnjs.cloudflare.com/ajax/libs/highlight.js/8.4/styles/default.min.css&quot;/&gt;\n    &lt;link rel=&quot;stylesheet&quot; href=&quot;https://cdn.jsdelivr.net/npm/leaflet-timedimension@1.1.1/dist/leaflet.timedimension.control.css&quot;/&gt;\n&lt;/head&gt;\n&lt;body&gt;\n    \n    \n            &lt;div class=&quot;folium-map&quot; id=&quot;map_b882a318786e43a501e364ea78ebc26f&quot; &gt;&lt;/div&gt;\n        \n&lt;/body&gt;\n&lt;script&gt;\n    \n    \n            var map_b882a318786e43a501e364ea78ebc26f = L.map(\n                &quot;map_b882a318786e43a501e364ea78ebc26f&quot;,\n                {\n                    center: [35.68159659061569, 139.76451516151428],\n                    crs: L.CRS.EPSG3857,\n                    zoom: 16,\n                    zoomControl: true,\n                    preferCanvas: false,\n                }\n            );\n\n            \n\n        \n    \n            var tile_layer_2818d253bb20ff685c9e7cf5bc406a53 = L.tileLayer(\n                &quot;https://{s}.tile.openstreetmap.org/{z}/{x}/{y}.png&quot;,\n                {&quot;attribution&quot;: &quot;Data by \\u0026copy; \\u003ca target=\\&quot;_blank\\&quot; href=\\&quot;http://openstreetmap.org\\&quot;\\u003eOpenStreetMap\\u003c/a\\u003e, under \\u003ca target=\\&quot;_blank\\&quot; href=\\&quot;http://www.openstreetmap.org/copyright\\&quot;\\u003eODbL\\u003c/a\\u003e.&quot;, &quot;detectRetina&quot;: false, &quot;maxNativeZoom&quot;: 18, &quot;maxZoom&quot;: 18, &quot;minZoom&quot;: 0, &quot;noWrap&quot;: false, &quot;opacity&quot;: 1, &quot;subdomains&quot;: &quot;abc&quot;, &quot;tms&quot;: false}\n            );\n        \n    \n                tile_layer_2818d253bb20ff685c9e7cf5bc406a53.addTo(map_b882a318786e43a501e364ea78ebc26f);\n    \n            L.Control.TimeDimensionCustom = L.Control.TimeDimension.extend({\n                _getDisplayDateFormat: function(date){\n                    var newdate = new moment(date);\n                    console.log(newdate)\n                    return newdate.format(&quot;YYYY-MM-DD HH:mm:ss&quot;);\n                }\n            });\n            map_b882a318786e43a501e364ea78ebc26f.timeDimension = L.timeDimension(\n                {\n                    period: &quot;PT1M&quot;,\n                }\n            );\n            var timeDimensionControl = new L.Control.TimeDimensionCustom(\n                {&quot;autoPlay&quot;: true, &quot;loopButton&quot;: false, &quot;maxSpeed&quot;: 10, &quot;minSpeed&quot;: 0.1, &quot;playerOptions&quot;: {&quot;loop&quot;: true, &quot;startOver&quot;: true, &quot;transitionTime&quot;: 200}, &quot;position&quot;: &quot;bottomleft&quot;, &quot;speedSlider&quot;: false, &quot;timeSliderDragUpdate&quot;: true}\n            );\n            map_b882a318786e43a501e364ea78ebc26f.addControl(this.timeDimensionControl);\n\n            var geoJsonLayer = L.geoJson({&quot;type&quot;: &quot;FeatureCollection&quot;, &quot;features&quot;: [{&quot;type&quot;: &quot;Feature&quot;, &quot;geometry&quot;: {&quot;type&quot;: &quot;LineString&quot;, &quot;coordinates&quot;: [[139.76451516151428, 35.68159659061569], [139.75964426994324, 35.682590062684206]]}, &quot;properties&quot;: {&quot;times&quot;: [&quot;2017-06-02T00:00:00&quot;, &quot;2017-06-02T00:10:00&quot;], &quot;style&quot;: {&quot;color&quot;: &quot;red&quot;, &quot;weight&quot;: 5}}}, {&quot;type&quot;: &quot;Feature&quot;, &quot;geometry&quot;: {&quot;type&quot;: &quot;LineString&quot;, &quot;coordinates&quot;: [[139.75964426994324, 35.682590062684206], [139.7575843334198, 35.679505030038506]]}, &quot;properties&quot;: {&quot;times&quot;: [&quot;2017-06-02T00:10:00&quot;, &quot;2017-06-02T00:20:00&quot;], &quot;style&quot;: {&quot;color&quot;: &quot;blue&quot;, &quot;weight&quot;: 5}}}, {&quot;type&quot;: &quot;Feature&quot;, &quot;geometry&quot;: {&quot;type&quot;: &quot;LineString&quot;, &quot;coordinates&quot;: [[139.7575843334198, 35.679505030038506], [139.76337790489197, 35.678040905014065]]}, &quot;properties&quot;: {&quot;times&quot;: [&quot;2017-06-02T00:20:00&quot;, &quot;2017-06-02T00:30:00&quot;], &quot;style&quot;: {&quot;color&quot;: &quot;green&quot;, &quot;weight&quot;: 15}}}, {&quot;type&quot;: &quot;Feature&quot;, &quot;geometry&quot;: {&quot;type&quot;: &quot;LineString&quot;, &quot;coordinates&quot;: [[139.76337790489197, 35.678040905014065], [139.76451516151428, 35.68159659061569]]}, &quot;properties&quot;: {&quot;times&quot;: [&quot;2017-06-02T00:30:00&quot;, &quot;2017-06-02T00:40:00&quot;], &quot;style&quot;: {&quot;color&quot;: &quot;#FFFFFF&quot;, &quot;weight&quot;: 5}}}]}, {\n                    pointToLayer: function (feature, latLng) {\n                        if (feature.properties.icon == &#x27;marker&#x27;) {\n                            if(feature.properties.iconstyle){\n                                return new L.Marker(latLng, {\n                                    icon: L.icon(feature.properties.iconstyle)});\n                            }\n                            //else\n                            return new L.Marker(latLng);\n                        }\n                        if (feature.properties.icon == &#x27;circle&#x27;) {\n                            if (feature.properties.iconstyle) {\n                                return new L.circleMarker(latLng, feature.properties.iconstyle)\n                                };\n                            //else\n                            return new L.circleMarker(latLng);\n                        }\n                        //else\n\n                        return new L.Marker(latLng);\n                    },\n                    style: function (feature) {\n                        return feature.properties.style;\n                    },\n                    onEachFeature: function(feature, layer) {\n                        if (feature.properties.popup) {\n                        layer.bindPopup(feature.properties.popup);\n                        }\n                        if (feature.properties.tooltip) {\n                        layer.bindTooltip(feature.properties.tooltip);\n                        }\n                    }\n                })\n\n            var timestamped_geo_json_3e7a18615cda2fec7b4c3f0e7c5fbb7e = L.timeDimension.layer.geoJson(\n                geoJsonLayer,\n                {\n                    updateTimeDimension: true,\n                    addlastPoint: true,\n                    duration: &quot;PT1M&quot;,\n                }\n            ).addTo(map_b882a318786e43a501e364ea78ebc26f);\n        \n&lt;/script&gt;\n&lt;/html&gt;\" style=\"position:absolute;width:100%;height:100%;left:0;top:0;border:none !important;\" allowfullscreen webkitallowfullscreen mozallowfullscreen></iframe></div></div>"
     },
     "execution_count": 30,
     "metadata": {},
     "output_type": "execute_result"
    }
   ],
   "source": [
    "import folium\n",
    "m = folium.Map(location=[35.68159659061569, 139.76451516151428], zoom_start=16)\n",
    "from folium.plugins import TimestampedGeoJson\n",
    "\n",
    "# Lon, Lat order.\n",
    "lines = [\n",
    "    {\n",
    "        \"coordinates\": [\n",
    "            [139.76451516151428, 35.68159659061569],\n",
    "            [139.75964426994324, 35.682590062684206],\n",
    "        ],\n",
    "        \"dates\": [\"2017-06-02T00:00:00\", \"2017-06-02T00:10:00\"],\n",
    "        \"color\": \"red\",\n",
    "    },\n",
    "    {\n",
    "        \"coordinates\": [\n",
    "            [139.75964426994324, 35.682590062684206],\n",
    "            [139.7575843334198, 35.679505030038506],\n",
    "        ],\n",
    "        \"dates\": [\"2017-06-02T00:10:00\", \"2017-06-02T00:20:00\"],\n",
    "        \"color\": \"blue\",\n",
    "    },\n",
    "    {\n",
    "        \"coordinates\": [\n",
    "            [139.7575843334198, 35.679505030038506],\n",
    "            [139.76337790489197, 35.678040905014065],\n",
    "        ],\n",
    "        \"dates\": [\"2017-06-02T00:20:00\", \"2017-06-02T00:30:00\"],\n",
    "        \"color\": \"green\",\n",
    "        \"weight\": 15,\n",
    "    },\n",
    "    {\n",
    "        \"coordinates\": [\n",
    "            [139.76337790489197, 35.678040905014065],\n",
    "            [139.76451516151428, 35.68159659061569],\n",
    "        ],\n",
    "        \"dates\": [\"2017-06-02T00:30:00\", \"2017-06-02T00:40:00\"],\n",
    "        \"color\": \"#FFFFFF\",\n",
    "    },\n",
    "]\n",
    "\n",
    "features = [\n",
    "    {\n",
    "        \"type\": \"Feature\",\n",
    "        \"geometry\": {\n",
    "            \"type\": \"LineString\",\n",
    "            \"coordinates\": line[\"coordinates\"],\n",
    "        },\n",
    "        \"properties\": {\n",
    "            \"times\": line[\"dates\"],\n",
    "            \"style\": {\n",
    "                \"color\": line[\"color\"],\n",
    "                \"weight\": line[\"weight\"] if \"weight\" in line else 5,\n",
    "            },\n",
    "        },\n",
    "    }\n",
    "    for line in lines\n",
    "]\n",
    "\n",
    "TimestampedGeoJson(\n",
    "    {\n",
    "        \"type\": \"FeatureCollection\",\n",
    "        \"features\": features,\n",
    "    },\n",
    "    period=\"PT1M\",\n",
    "    duration=\"PT1M\",\n",
    "    add_last_point=True,\n",
    "    speed_slider=False,\n",
    ").add_to(m)\n",
    "\n",
    "m"
   ],
   "metadata": {
    "collapsed": false,
    "ExecuteTime": {
     "end_time": "2024-02-02T09:14:54.770770Z",
     "start_time": "2024-02-02T09:14:54.747409Z"
    }
   },
   "id": "a29be36161f58ac5",
   "execution_count": 30
  },
  {
   "cell_type": "code",
   "outputs": [],
   "source": [],
   "metadata": {
    "collapsed": false
   },
   "id": "74dbdc3ca860256e"
  },
  {
   "cell_type": "code",
   "outputs": [
    {
     "data": {
      "text/plain": "<folium.folium.Map at 0x7f6b10a44280>",
      "text/html": "<div style=\"width:100%;\"><div style=\"position:relative;width:100%;height:0;padding-bottom:60%;\"><span style=\"color:#565656\">Make this Notebook Trusted to load map: File -> Trust Notebook</span><iframe srcdoc=\"&lt;!DOCTYPE html&gt;\n&lt;html&gt;\n&lt;head&gt;\n    \n    &lt;meta http-equiv=&quot;content-type&quot; content=&quot;text/html; charset=UTF-8&quot; /&gt;\n    \n        &lt;script&gt;\n            L_NO_TOUCH = false;\n            L_DISABLE_3D = false;\n        &lt;/script&gt;\n    \n    &lt;style&gt;html, body {width: 100%;height: 100%;margin: 0;padding: 0;}&lt;/style&gt;\n    &lt;style&gt;#map {position:absolute;top:0;bottom:0;right:0;left:0;}&lt;/style&gt;\n    &lt;script src=&quot;https://cdn.jsdelivr.net/npm/leaflet@1.9.3/dist/leaflet.js&quot;&gt;&lt;/script&gt;\n    &lt;script src=&quot;https://code.jquery.com/jquery-3.7.1.min.js&quot;&gt;&lt;/script&gt;\n    &lt;script src=&quot;https://cdn.jsdelivr.net/npm/bootstrap@5.2.2/dist/js/bootstrap.bundle.min.js&quot;&gt;&lt;/script&gt;\n    &lt;script src=&quot;https://cdnjs.cloudflare.com/ajax/libs/Leaflet.awesome-markers/2.0.2/leaflet.awesome-markers.js&quot;&gt;&lt;/script&gt;\n    &lt;link rel=&quot;stylesheet&quot; href=&quot;https://cdn.jsdelivr.net/npm/leaflet@1.9.3/dist/leaflet.css&quot;/&gt;\n    &lt;link rel=&quot;stylesheet&quot; href=&quot;https://cdn.jsdelivr.net/npm/bootstrap@5.2.2/dist/css/bootstrap.min.css&quot;/&gt;\n    &lt;link rel=&quot;stylesheet&quot; href=&quot;https://netdna.bootstrapcdn.com/bootstrap/3.0.0/css/bootstrap.min.css&quot;/&gt;\n    &lt;link rel=&quot;stylesheet&quot; href=&quot;https://cdn.jsdelivr.net/npm/@fortawesome/fontawesome-free@6.2.0/css/all.min.css&quot;/&gt;\n    &lt;link rel=&quot;stylesheet&quot; href=&quot;https://cdnjs.cloudflare.com/ajax/libs/Leaflet.awesome-markers/2.0.2/leaflet.awesome-markers.css&quot;/&gt;\n    &lt;link rel=&quot;stylesheet&quot; href=&quot;https://cdn.jsdelivr.net/gh/python-visualization/folium/folium/templates/leaflet.awesome.rotate.min.css&quot;/&gt;\n    \n            &lt;meta name=&quot;viewport&quot; content=&quot;width=device-width,\n                initial-scale=1.0, maximum-scale=1.0, user-scalable=no&quot; /&gt;\n            &lt;style&gt;\n                #map_5078596ef417edb0d2aca88e45112d00 {\n                    position: relative;\n                    width: 100.0%;\n                    height: 100.0%;\n                    left: 0.0%;\n                    top: 0.0%;\n                }\n                .leaflet-container { font-size: 1rem; }\n            &lt;/style&gt;\n        \n&lt;/head&gt;\n&lt;body&gt;\n    \n    \n            &lt;div class=&quot;folium-map&quot; id=&quot;map_5078596ef417edb0d2aca88e45112d00&quot; &gt;&lt;/div&gt;\n        \n&lt;/body&gt;\n&lt;script&gt;\n    \n    \n            var map_5078596ef417edb0d2aca88e45112d00 = L.map(\n                &quot;map_5078596ef417edb0d2aca88e45112d00&quot;,\n                {\n                    center: [30.65294, 104.04215],\n                    crs: L.CRS.EPSG3857,\n                    zoom: 14,\n                    zoomControl: true,\n                    preferCanvas: false,\n                }\n            );\n            L.control.scale().addTo(map_5078596ef417edb0d2aca88e45112d00);\n\n            \n\n        \n    \n            var tile_layer_eecdac9f50308cd40d7148ba2222dfa3 = L.tileLayer(\n                &quot;https://cartodb-basemaps-{s}.global.ssl.fastly.net/light_all/{z}/{x}/{y}.png&quot;,\n                {&quot;attribution&quot;: &quot;\\u0026copy; \\u003ca target=\\&quot;_blank\\&quot; href=\\&quot;http://www.openstreetmap.org/copyright\\&quot;\\u003eOpenStreetMap\\u003c/a\\u003e contributors \\u0026copy; \\u003ca target=\\&quot;_blank\\&quot; href=\\&quot;http://cartodb.com/attributions\\&quot;\\u003eCartoDB\\u003c/a\\u003e, CartoDB \\u003ca target=\\&quot;_blank\\&quot; href =\\&quot;http://cartodb.com/attributions\\&quot;\\u003eattributions\\u003c/a\\u003e&quot;, &quot;detectRetina&quot;: false, &quot;maxNativeZoom&quot;: 24, &quot;maxZoom&quot;: 24, &quot;minZoom&quot;: 0, &quot;noWrap&quot;: false, &quot;opacity&quot;: 1, &quot;subdomains&quot;: &quot;abc&quot;, &quot;tms&quot;: false}\n            );\n        \n    \n                tile_layer_eecdac9f50308cd40d7148ba2222dfa3.addTo(map_5078596ef417edb0d2aca88e45112d00);\n    \n        function geo_json_5a13d229eab22ab82150094f4c86ace6_styler(feature) {\n            switch(feature.id) {\n                default:\n                    return {&quot;color&quot;: &quot;black&quot;, &quot;dashArray&quot;: &quot;5,5&quot;, &quot;fillOpacity&quot;: 0, &quot;weight&quot;: 2};\n            }\n        }\n\n        function geo_json_5a13d229eab22ab82150094f4c86ace6_onEachFeature(feature, layer) {\n            layer.on({\n            });\n        };\n        var geo_json_5a13d229eab22ab82150094f4c86ace6 = L.geoJson(null, {\n                onEachFeature: geo_json_5a13d229eab22ab82150094f4c86ace6_onEachFeature,\n            \n                style: geo_json_5a13d229eab22ab82150094f4c86ace6_styler,\n        });\n\n        function geo_json_5a13d229eab22ab82150094f4c86ace6_add (data) {\n            geo_json_5a13d229eab22ab82150094f4c86ace6\n                .addData(data);\n        }\n            geo_json_5a13d229eab22ab82150094f4c86ace6_add({&quot;features&quot;: [{&quot;geometry&quot;: {&quot;coordinates&quot;: [[[104.04215, 30.706899296355125], [104.09610929635512, 30.706899296355125], [104.09610929635512, 30.65294], [104.04215, 30.65294], [104.04215, 30.706899296355125]]], &quot;type&quot;: &quot;Polygon&quot;}, &quot;id&quot;: &quot;0&quot;, &quot;type&quot;: &quot;Feature&quot;}], &quot;properties&quot;: {&quot;lower_left&quot;: [104.04215, 30.65294], &quot;upper_right&quot;: [104.09610929635512, 30.706899296355125]}, &quot;type&quot;: &quot;FeatureCollection&quot;});\n\n        \n    \n                geo_json_5a13d229eab22ab82150094f4c86ace6.addTo(map_5078596ef417edb0d2aca88e45112d00);\n&lt;/script&gt;\n&lt;/html&gt;\" style=\"position:absolute;width:100%;height:100%;left:0;top:0;border:none !important;\" allowfullscreen webkitallowfullscreen mozallowfullscreen></iframe></div></div>"
     },
     "execution_count": 35,
     "metadata": {},
     "output_type": "execute_result"
    }
   ],
   "source": [
    "# 104.0143061429087 30.6295471457352\n",
    "from envs.crowd_sim.utils import get_border\n",
    "from datasets.Chengdu.data_preprocess import get_longitude_and_latitude_max\n",
    "import folium\n",
    "lower_left = [104.04215, 30.65294]\n",
    "upper_right = list(get_longitude_and_latitude_max(lower_left[0], lower_left[1], 6000))\n",
    "my_render_map: folium.Map = folium.Map(location=[lower_left[1], lower_left[0]], tiles=\"cartodbpositron\", zoom_start=14, max_zoom=24, control_scale=True)\n",
    "grid_geo_json = get_border(upper_right, lower_left)\n",
    "color = 'red'\n",
    "border = folium.GeoJson(grid_geo_json,\n",
    "                        style_function=lambda feature, clr=color: {\n",
    "                            # 'fillColor': color,\n",
    "                            'color': \"black\",\n",
    "                            'weight': 2,\n",
    "                            'dashArray': '5,5',\n",
    "                            'fillOpacity': 0,\n",
    "                        }).add_to(my_render_map)\n",
    "my_render_map"
   ],
   "metadata": {
    "collapsed": false,
    "ExecuteTime": {
     "end_time": "2024-02-02T10:16:54.506118Z",
     "start_time": "2024-02-02T10:16:54.477843Z"
    }
   },
   "id": "5b98c0596a2b2a83",
   "execution_count": 35
  },
  {
   "cell_type": "code",
   "outputs": [
    {
     "name": "stdout",
     "output_type": "stream",
     "text": [
      "emergency_time_loc_0900_0930.csv\n",
      "unique number counts\n",
      "15\n",
      "len\n",
      "132\n",
      "emergency_time_loc_1100_1130.csv\n",
      "unique number counts\n",
      "14\n",
      "len\n",
      "113\n",
      "emergency_time_loc_1400_1430.csv\n",
      "unique number counts\n",
      "16\n",
      "len\n",
      "102\n",
      "emergency_time_loc_1600_1630.csv\n",
      "unique number counts\n",
      "13\n",
      "len\n",
      "126\n",
      "emergency_time_loc_1800_1830.csv\n",
      "unique number counts\n",
      "16\n",
      "len\n",
      "67\n",
      "{(12, 1), (0, 9), (8, 0), (4, 5), (13, 2), (9, 4)}\n"
     ]
    }
   ],
   "source": [
    "# open all csv starting with prefix emergency_time_loc\n",
    "import os\n",
    "import pandas as pd\n",
    "parent_path = os.path.join('/workspace/Awesome-Mobile-Crowdsensing', 'datasets/Chengdu')\n",
    "file_names = os.listdir(parent_path)\n",
    "file_names = [file_name for file_name in file_names if file_name.startswith('emergency_time_loc')]\n",
    "file_names = sorted(file_names)\n",
    "common = set()\n",
    "for file_name in file_names:\n",
    "    print(file_name)\n",
    "    df = pd.read_csv(os.path.join(parent_path, file_name))\n",
    "    # print unique number counts\n",
    "    print(\"unique number counts\")\n",
    "    print(df.groupby(['x_bin', 'y_bin']).size().count())\n",
    "    # print len\n",
    "    print(\"len\")\n",
    "    print(len(df))\n",
    "    # check how many common (x_bin, y_bin) pairs in all csv\n",
    "    if len(common) == 0:\n",
    "        common = set(df.groupby(['x_bin', 'y_bin']).size().index)\n",
    "    else:\n",
    "        common = common.intersection(set(df.groupby(['x_bin', 'y_bin']).size().index))\n",
    "print(common)"
   ],
   "metadata": {
    "collapsed": false,
    "ExecuteTime": {
     "end_time": "2024-02-02T14:37:29.781958Z",
     "start_time": "2024-02-02T14:37:29.731703Z"
    }
   },
   "id": "d68c9fdc9bd60bdd",
   "execution_count": 48
  },
  {
   "cell_type": "code",
   "outputs": [],
   "source": [],
   "metadata": {
    "collapsed": false
   },
   "id": "c54559edb7da1dca"
  }
 ],
 "metadata": {
  "kernelspec": {
   "display_name": "Python 3",
   "language": "python",
   "name": "python3"
  },
  "language_info": {
   "codemirror_mode": {
    "name": "ipython",
    "version": 2
   },
   "file_extension": ".py",
   "mimetype": "text/x-python",
   "name": "python",
   "nbconvert_exporter": "python",
   "pygments_lexer": "ipython2",
   "version": "2.7.6"
  }
 },
 "nbformat": 4,
 "nbformat_minor": 5
}
